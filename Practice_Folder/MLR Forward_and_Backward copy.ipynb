{
 "cells": [
  {
   "cell_type": "code",
   "execution_count": 31,
   "metadata": {},
   "outputs": [],
   "source": [
    "from warnings import filterwarnings\n",
    "filterwarnings('ignore')"
   ]
  },
  {
   "cell_type": "code",
   "execution_count": 32,
   "metadata": {},
   "outputs": [],
   "source": [
    "import pandas as pd\n",
    "df = pd.read_csv('con_dataset.csv')"
   ]
  },
  {
   "cell_type": "code",
   "execution_count": 33,
   "metadata": {},
   "outputs": [
    {
     "data": {
      "text/html": [
       "<div>\n",
       "<style scoped>\n",
       "    .dataframe tbody tr th:only-of-type {\n",
       "        vertical-align: middle;\n",
       "    }\n",
       "\n",
       "    .dataframe tbody tr th {\n",
       "        vertical-align: top;\n",
       "    }\n",
       "\n",
       "    .dataframe thead th {\n",
       "        text-align: right;\n",
       "    }\n",
       "</style>\n",
       "<table border=\"1\" class=\"dataframe\">\n",
       "  <thead>\n",
       "    <tr style=\"text-align: right;\">\n",
       "      <th></th>\n",
       "      <th>Cement</th>\n",
       "      <th>Blast Furnace Slag</th>\n",
       "      <th>Fly Ash</th>\n",
       "      <th>Water</th>\n",
       "      <th>Superplasticizer</th>\n",
       "      <th>Coarse Aggregate</th>\n",
       "      <th>Fine Aggregate</th>\n",
       "      <th>Age</th>\n",
       "      <th>Strength</th>\n",
       "    </tr>\n",
       "  </thead>\n",
       "  <tbody>\n",
       "    <tr>\n",
       "      <th>0</th>\n",
       "      <td>540.0</td>\n",
       "      <td>0.0</td>\n",
       "      <td>Yes</td>\n",
       "      <td>162.0</td>\n",
       "      <td>2.5</td>\n",
       "      <td>1040.0</td>\n",
       "      <td>676.0</td>\n",
       "      <td>28.0</td>\n",
       "      <td>79.99</td>\n",
       "    </tr>\n",
       "    <tr>\n",
       "      <th>1</th>\n",
       "      <td>540.0</td>\n",
       "      <td>0.0</td>\n",
       "      <td>Yes</td>\n",
       "      <td>162.0</td>\n",
       "      <td>2.5</td>\n",
       "      <td>1055.0</td>\n",
       "      <td>676.0</td>\n",
       "      <td>28.0</td>\n",
       "      <td>61.89</td>\n",
       "    </tr>\n",
       "    <tr>\n",
       "      <th>2</th>\n",
       "      <td>332.5</td>\n",
       "      <td>142.5</td>\n",
       "      <td>Yes</td>\n",
       "      <td>228.0</td>\n",
       "      <td>0.0</td>\n",
       "      <td>NaN</td>\n",
       "      <td>594.0</td>\n",
       "      <td>270.0</td>\n",
       "      <td>40.27</td>\n",
       "    </tr>\n",
       "    <tr>\n",
       "      <th>3</th>\n",
       "      <td>332.5</td>\n",
       "      <td>142.5</td>\n",
       "      <td>No</td>\n",
       "      <td>228.0</td>\n",
       "      <td>0.0</td>\n",
       "      <td>932.0</td>\n",
       "      <td>594.0</td>\n",
       "      <td>365.0</td>\n",
       "      <td>41.05</td>\n",
       "    </tr>\n",
       "    <tr>\n",
       "      <th>4</th>\n",
       "      <td>198.6</td>\n",
       "      <td>132.4</td>\n",
       "      <td>No</td>\n",
       "      <td>192.0</td>\n",
       "      <td>0.0</td>\n",
       "      <td>978.4</td>\n",
       "      <td>825.5</td>\n",
       "      <td>360.0</td>\n",
       "      <td>44.30</td>\n",
       "    </tr>\n",
       "  </tbody>\n",
       "</table>\n",
       "</div>"
      ],
      "text/plain": [
       "   Cement  Blast Furnace Slag Fly Ash  Water  Superplasticizer  \\\n",
       "0   540.0                 0.0     Yes  162.0               2.5   \n",
       "1   540.0                 0.0     Yes  162.0               2.5   \n",
       "2   332.5               142.5     Yes  228.0               0.0   \n",
       "3   332.5               142.5      No  228.0               0.0   \n",
       "4   198.6               132.4      No  192.0               0.0   \n",
       "\n",
       "   Coarse Aggregate  Fine Aggregate    Age  Strength  \n",
       "0            1040.0           676.0   28.0     79.99  \n",
       "1            1055.0           676.0   28.0     61.89  \n",
       "2               NaN           594.0  270.0     40.27  \n",
       "3             932.0           594.0  365.0     41.05  \n",
       "4             978.4           825.5  360.0     44.30  "
      ]
     },
     "execution_count": 33,
     "metadata": {},
     "output_type": "execute_result"
    }
   ],
   "source": [
    "df.head()"
   ]
  },
  {
   "cell_type": "code",
   "execution_count": 34,
   "metadata": {},
   "outputs": [
    {
     "data": {
      "text/plain": [
       "Cement                4\n",
       "Blast Furnace Slag    0\n",
       "Fly Ash               0\n",
       "Water                 0\n",
       "Superplasticizer      0\n",
       "Coarse Aggregate      4\n",
       "Fine Aggregate        0\n",
       "Age                   4\n",
       "Strength              0\n",
       "dtype: int64"
      ]
     },
     "execution_count": 34,
     "metadata": {},
     "output_type": "execute_result"
    }
   ],
   "source": [
    "df.isna().sum()"
   ]
  },
  {
   "cell_type": "markdown",
   "metadata": {},
   "source": [
    "# Seperat the X and Y"
   ]
  },
  {
   "cell_type": "markdown",
   "metadata": {},
   "source": []
  },
  {
   "cell_type": "code",
   "execution_count": 35,
   "metadata": {},
   "outputs": [],
   "source": [
    "X= df.drop(columns=['Strength'])"
   ]
  },
  {
   "cell_type": "code",
   "execution_count": 36,
   "metadata": {},
   "outputs": [],
   "source": [
    "Y = df[['Strength']]"
   ]
  },
  {
   "cell_type": "code",
   "execution_count": 37,
   "metadata": {},
   "outputs": [
    {
     "data": {
      "text/html": [
       "<div>\n",
       "<style scoped>\n",
       "    .dataframe tbody tr th:only-of-type {\n",
       "        vertical-align: middle;\n",
       "    }\n",
       "\n",
       "    .dataframe tbody tr th {\n",
       "        vertical-align: top;\n",
       "    }\n",
       "\n",
       "    .dataframe thead th {\n",
       "        text-align: right;\n",
       "    }\n",
       "</style>\n",
       "<table border=\"1\" class=\"dataframe\">\n",
       "  <thead>\n",
       "    <tr style=\"text-align: right;\">\n",
       "      <th></th>\n",
       "      <th>Strength</th>\n",
       "    </tr>\n",
       "  </thead>\n",
       "  <tbody>\n",
       "    <tr>\n",
       "      <th>0</th>\n",
       "      <td>79.99</td>\n",
       "    </tr>\n",
       "    <tr>\n",
       "      <th>1</th>\n",
       "      <td>61.89</td>\n",
       "    </tr>\n",
       "    <tr>\n",
       "      <th>2</th>\n",
       "      <td>40.27</td>\n",
       "    </tr>\n",
       "    <tr>\n",
       "      <th>3</th>\n",
       "      <td>41.05</td>\n",
       "    </tr>\n",
       "    <tr>\n",
       "      <th>4</th>\n",
       "      <td>44.30</td>\n",
       "    </tr>\n",
       "    <tr>\n",
       "      <th>...</th>\n",
       "      <td>...</td>\n",
       "    </tr>\n",
       "    <tr>\n",
       "      <th>1025</th>\n",
       "      <td>44.28</td>\n",
       "    </tr>\n",
       "    <tr>\n",
       "      <th>1026</th>\n",
       "      <td>31.18</td>\n",
       "    </tr>\n",
       "    <tr>\n",
       "      <th>1027</th>\n",
       "      <td>23.70</td>\n",
       "    </tr>\n",
       "    <tr>\n",
       "      <th>1028</th>\n",
       "      <td>32.77</td>\n",
       "    </tr>\n",
       "    <tr>\n",
       "      <th>1029</th>\n",
       "      <td>32.40</td>\n",
       "    </tr>\n",
       "  </tbody>\n",
       "</table>\n",
       "<p>1030 rows × 1 columns</p>\n",
       "</div>"
      ],
      "text/plain": [
       "      Strength\n",
       "0        79.99\n",
       "1        61.89\n",
       "2        40.27\n",
       "3        41.05\n",
       "4        44.30\n",
       "...        ...\n",
       "1025     44.28\n",
       "1026     31.18\n",
       "1027     23.70\n",
       "1028     32.77\n",
       "1029     32.40\n",
       "\n",
       "[1030 rows x 1 columns]"
      ]
     },
     "execution_count": 37,
     "metadata": {},
     "output_type": "execute_result"
    }
   ],
   "source": [
    "Y"
   ]
  },
  {
   "cell_type": "code",
   "execution_count": 38,
   "metadata": {},
   "outputs": [
    {
     "data": {
      "text/plain": [
       "Cement                float64\n",
       "Blast Furnace Slag    float64\n",
       "Fly Ash                object\n",
       "Water                 float64\n",
       "Superplasticizer      float64\n",
       "Coarse Aggregate      float64\n",
       "Fine Aggregate        float64\n",
       "Age                   float64\n",
       "Strength              float64\n",
       "dtype: object"
      ]
     },
     "execution_count": 38,
     "metadata": {},
     "output_type": "execute_result"
    }
   ],
   "source": [
    "df.dtypes"
   ]
  },
  {
   "cell_type": "code",
   "execution_count": 39,
   "metadata": {},
   "outputs": [
    {
     "data": {
      "text/plain": [
       "Index(['Cement', 'Blast Furnace Slag', 'Fly Ash', 'Water', 'Superplasticizer',\n",
       "       'Coarse Aggregate', 'Fine Aggregate', 'Age', 'Strength'],\n",
       "      dtype='object')"
      ]
     },
     "execution_count": 39,
     "metadata": {},
     "output_type": "execute_result"
    }
   ],
   "source": [
    "df.columns"
   ]
  },
  {
   "cell_type": "code",
   "execution_count": 40,
   "metadata": {},
   "outputs": [],
   "source": [
    "cat=list(X.columns[X.dtypes == 'object'])"
   ]
  },
  {
   "cell_type": "code",
   "execution_count": 41,
   "metadata": {},
   "outputs": [],
   "source": [
    "con = list(X.columns[X.dtypes != 'object'])"
   ]
  },
  {
   "cell_type": "code",
   "execution_count": 42,
   "metadata": {},
   "outputs": [
    {
     "data": {
      "text/plain": [
       "['Fly Ash']"
      ]
     },
     "execution_count": 42,
     "metadata": {},
     "output_type": "execute_result"
    }
   ],
   "source": [
    "cat "
   ]
  },
  {
   "cell_type": "code",
   "execution_count": 43,
   "metadata": {},
   "outputs": [
    {
     "data": {
      "text/plain": [
       "['Cement',\n",
       " 'Blast Furnace Slag',\n",
       " 'Water',\n",
       " 'Superplasticizer',\n",
       " 'Coarse Aggregate',\n",
       " 'Fine Aggregate',\n",
       " 'Age']"
      ]
     },
     "execution_count": 43,
     "metadata": {},
     "output_type": "execute_result"
    }
   ],
   "source": [
    "con"
   ]
  },
  {
   "cell_type": "code",
   "execution_count": 44,
   "metadata": {},
   "outputs": [],
   "source": [
    "from sklearn.pipeline import Pipeline\n",
    "from sklearn.impute import SimpleImputer # Fill the Missing Value\n",
    "from sklearn.preprocessing import StandardScaler, OneHotEncoder, OrdinalEncoder \n",
    "# Scalar == Scaling Two Type 1) Standard -- X - Xm / SD  --- Range -3 tp 3   2) Normalition -- X - Xmin / Xmax - Xmin  Range - -1 to 1\n",
    "# OneHot Encoder = Convert Categorical Features into Continous --- Create Multiple Columns -- Each Wrod One Columns e.g Apple --- \n",
    "# new columns will get created for Apple ---- where ever there is apple entry it will show 1 otherwise 0 \n",
    "# Ordinal Encoder - used for Ordinal data like S M L XL , Only One Columns will be get created it will have value like S-1, M-2, L-3, XL-4\n",
    "from sklearn.compose import ColumnTransformer # Joining the Cat and Con Columns "
   ]
  },
  {
   "cell_type": "code",
   "execution_count": 45,
   "metadata": {},
   "outputs": [],
   "source": [
    "#Create Numerical Pipeline \n",
    "num_pipe = Pipeline(steps= [(\"imputer\", SimpleImputer(strategy='mean')),('Scalar', StandardScaler()) ] ) \n",
    "\n",
    "# Create Categorical Pipeline \n",
    "cat_Pipe = Pipeline(steps=[('imputer', SimpleImputer(strategy='most_frequent')),\n",
    "                           ('ordinal', OrdinalEncoder()),\n",
    "                           ('scalar', StandardScaler())\n",
    "                           ])\n",
    "\n",
    "#Combine categorical and continuous pipelines\n",
    "pre = ColumnTransformer([('num', num_pipe, con), ('cat', cat_Pipe, cat)])"
   ]
  },
  {
   "cell_type": "code",
   "execution_count": 46,
   "metadata": {},
   "outputs": [
    {
     "data": {
      "text/plain": [
       "array([[ 2.49569686, -0.85688789, -0.91676439, ..., -1.21767004,\n",
       "        -0.27647427,  0.94887776],\n",
       "       [ 2.49569686, -0.85688789, -0.91676439, ..., -1.21767004,\n",
       "        -0.27647427,  0.94887776],\n",
       "       [ 0.49970827,  0.79552649,  2.17546125, ..., -2.24091709,\n",
       "         3.6148215 ,  0.94887776],\n",
       "       ...,\n",
       "       [-1.27022859,  0.75957923,  0.52158905, ...,  0.0801067 ,\n",
       "        -0.27647427, -1.05387653],\n",
       "       [-1.16826484,  1.30806485, -0.2795785 , ...,  0.19116644,\n",
       "        -0.27647427,  0.94887776],\n",
       "       [-0.18902803,  0.30849909,  0.89171909, ..., -0.15074782,\n",
       "        -0.27647427,  0.94887776]])"
      ]
     },
     "execution_count": 46,
     "metadata": {},
     "output_type": "execute_result"
    }
   ],
   "source": [
    "# Transform the Array \n",
    "X_pre = pre.fit_transform(X)\n",
    "X_pre"
   ]
  },
  {
   "cell_type": "code",
   "execution_count": 47,
   "metadata": {},
   "outputs": [
    {
     "data": {
      "text/plain": [
       "array(['num__Cement', 'num__Blast Furnace Slag', 'num__Water',\n",
       "       'num__Superplasticizer', 'num__Coarse Aggregate',\n",
       "       'num__Fine Aggregate', 'num__Age', 'cat__Fly Ash'], dtype=object)"
      ]
     },
     "execution_count": 47,
     "metadata": {},
     "output_type": "execute_result"
    }
   ],
   "source": [
    "# Get the features / Columns names \n",
    "cols = pre.get_feature_names_out()\n",
    "cols"
   ]
  },
  {
   "cell_type": "code",
   "execution_count": 48,
   "metadata": {},
   "outputs": [
    {
     "data": {
      "text/html": [
       "<div>\n",
       "<style scoped>\n",
       "    .dataframe tbody tr th:only-of-type {\n",
       "        vertical-align: middle;\n",
       "    }\n",
       "\n",
       "    .dataframe tbody tr th {\n",
       "        vertical-align: top;\n",
       "    }\n",
       "\n",
       "    .dataframe thead th {\n",
       "        text-align: right;\n",
       "    }\n",
       "</style>\n",
       "<table border=\"1\" class=\"dataframe\">\n",
       "  <thead>\n",
       "    <tr style=\"text-align: right;\">\n",
       "      <th></th>\n",
       "      <th>num__Cement</th>\n",
       "      <th>num__Blast Furnace Slag</th>\n",
       "      <th>num__Water</th>\n",
       "      <th>num__Superplasticizer</th>\n",
       "      <th>num__Coarse Aggregate</th>\n",
       "      <th>num__Fine Aggregate</th>\n",
       "      <th>num__Age</th>\n",
       "      <th>cat__Fly Ash</th>\n",
       "    </tr>\n",
       "  </thead>\n",
       "  <tbody>\n",
       "    <tr>\n",
       "      <th>0</th>\n",
       "      <td>2.495697</td>\n",
       "      <td>-0.856888</td>\n",
       "      <td>-0.916764</td>\n",
       "      <td>-0.620448</td>\n",
       "      <td>0.862035</td>\n",
       "      <td>-1.217670</td>\n",
       "      <td>-0.276474</td>\n",
       "      <td>0.948878</td>\n",
       "    </tr>\n",
       "    <tr>\n",
       "      <th>1</th>\n",
       "      <td>2.495697</td>\n",
       "      <td>-0.856888</td>\n",
       "      <td>-0.916764</td>\n",
       "      <td>-0.620448</td>\n",
       "      <td>1.055123</td>\n",
       "      <td>-1.217670</td>\n",
       "      <td>-0.276474</td>\n",
       "      <td>0.948878</td>\n",
       "    </tr>\n",
       "    <tr>\n",
       "      <th>2</th>\n",
       "      <td>0.499708</td>\n",
       "      <td>0.795526</td>\n",
       "      <td>2.175461</td>\n",
       "      <td>-1.039143</td>\n",
       "      <td>0.000000</td>\n",
       "      <td>-2.240917</td>\n",
       "      <td>3.614821</td>\n",
       "      <td>0.948878</td>\n",
       "    </tr>\n",
       "    <tr>\n",
       "      <th>3</th>\n",
       "      <td>0.499708</td>\n",
       "      <td>0.795526</td>\n",
       "      <td>2.175461</td>\n",
       "      <td>-1.039143</td>\n",
       "      <td>-0.528203</td>\n",
       "      <td>-2.240917</td>\n",
       "      <td>5.142396</td>\n",
       "      <td>-1.053877</td>\n",
       "    </tr>\n",
       "    <tr>\n",
       "      <th>4</th>\n",
       "      <td>-0.788306</td>\n",
       "      <td>0.678408</td>\n",
       "      <td>0.488793</td>\n",
       "      <td>-1.039143</td>\n",
       "      <td>0.069084</td>\n",
       "      <td>0.647884</td>\n",
       "      <td>5.061998</td>\n",
       "      <td>-1.053877</td>\n",
       "    </tr>\n",
       "    <tr>\n",
       "      <th>...</th>\n",
       "      <td>...</td>\n",
       "      <td>...</td>\n",
       "      <td>...</td>\n",
       "      <td>...</td>\n",
       "      <td>...</td>\n",
       "      <td>...</td>\n",
       "      <td>...</td>\n",
       "      <td>...</td>\n",
       "    </tr>\n",
       "    <tr>\n",
       "      <th>1025</th>\n",
       "      <td>-0.039930</td>\n",
       "      <td>0.488235</td>\n",
       "      <td>-0.092171</td>\n",
       "      <td>0.451410</td>\n",
       "      <td>-1.325016</td>\n",
       "      <td>-0.065893</td>\n",
       "      <td>-0.276474</td>\n",
       "      <td>0.948878</td>\n",
       "    </tr>\n",
       "    <tr>\n",
       "      <th>1026</th>\n",
       "      <td>0.400630</td>\n",
       "      <td>-0.856888</td>\n",
       "      <td>0.676200</td>\n",
       "      <td>0.702626</td>\n",
       "      <td>-1.996964</td>\n",
       "      <td>0.496893</td>\n",
       "      <td>-0.276474</td>\n",
       "      <td>0.948878</td>\n",
       "    </tr>\n",
       "    <tr>\n",
       "      <th>1027</th>\n",
       "      <td>-1.270229</td>\n",
       "      <td>0.759579</td>\n",
       "      <td>0.521589</td>\n",
       "      <td>-0.017528</td>\n",
       "      <td>-1.037957</td>\n",
       "      <td>0.080107</td>\n",
       "      <td>-0.276474</td>\n",
       "      <td>-1.053877</td>\n",
       "    </tr>\n",
       "    <tr>\n",
       "      <th>1028</th>\n",
       "      <td>-1.168265</td>\n",
       "      <td>1.308065</td>\n",
       "      <td>-0.279579</td>\n",
       "      <td>0.853356</td>\n",
       "      <td>0.213257</td>\n",
       "      <td>0.191166</td>\n",
       "      <td>-0.276474</td>\n",
       "      <td>0.948878</td>\n",
       "    </tr>\n",
       "    <tr>\n",
       "      <th>1029</th>\n",
       "      <td>-0.189028</td>\n",
       "      <td>0.308499</td>\n",
       "      <td>0.891719</td>\n",
       "      <td>0.401166</td>\n",
       "      <td>-1.397102</td>\n",
       "      <td>-0.150748</td>\n",
       "      <td>-0.276474</td>\n",
       "      <td>0.948878</td>\n",
       "    </tr>\n",
       "  </tbody>\n",
       "</table>\n",
       "<p>1030 rows × 8 columns</p>\n",
       "</div>"
      ],
      "text/plain": [
       "      num__Cement  num__Blast Furnace Slag  num__Water  num__Superplasticizer  \\\n",
       "0        2.495697                -0.856888   -0.916764              -0.620448   \n",
       "1        2.495697                -0.856888   -0.916764              -0.620448   \n",
       "2        0.499708                 0.795526    2.175461              -1.039143   \n",
       "3        0.499708                 0.795526    2.175461              -1.039143   \n",
       "4       -0.788306                 0.678408    0.488793              -1.039143   \n",
       "...           ...                      ...         ...                    ...   \n",
       "1025    -0.039930                 0.488235   -0.092171               0.451410   \n",
       "1026     0.400630                -0.856888    0.676200               0.702626   \n",
       "1027    -1.270229                 0.759579    0.521589              -0.017528   \n",
       "1028    -1.168265                 1.308065   -0.279579               0.853356   \n",
       "1029    -0.189028                 0.308499    0.891719               0.401166   \n",
       "\n",
       "      num__Coarse Aggregate  num__Fine Aggregate  num__Age  cat__Fly Ash  \n",
       "0                  0.862035            -1.217670 -0.276474      0.948878  \n",
       "1                  1.055123            -1.217670 -0.276474      0.948878  \n",
       "2                  0.000000            -2.240917  3.614821      0.948878  \n",
       "3                 -0.528203            -2.240917  5.142396     -1.053877  \n",
       "4                  0.069084             0.647884  5.061998     -1.053877  \n",
       "...                     ...                  ...       ...           ...  \n",
       "1025              -1.325016            -0.065893 -0.276474      0.948878  \n",
       "1026              -1.996964             0.496893 -0.276474      0.948878  \n",
       "1027              -1.037957             0.080107 -0.276474     -1.053877  \n",
       "1028               0.213257             0.191166 -0.276474      0.948878  \n",
       "1029              -1.397102            -0.150748 -0.276474      0.948878  \n",
       "\n",
       "[1030 rows x 8 columns]"
      ]
     },
     "execution_count": 48,
     "metadata": {},
     "output_type": "execute_result"
    }
   ],
   "source": [
    "# Convert into Data Frame \n",
    "X_pre = pd.DataFrame(X_pre, columns=cols)\n",
    "X_pre"
   ]
  },
  {
   "cell_type": "code",
   "execution_count": 49,
   "metadata": {},
   "outputs": [],
   "source": [
    "## Feature Selection\n",
    "from sklearn.feature_selection import SequentialFeatureSelector\n",
    "from sklearn.linear_model import LinearRegression"
   ]
  },
  {
   "cell_type": "code",
   "execution_count": 50,
   "metadata": {},
   "outputs": [],
   "source": [
    "lr = LinearRegression()\n",
    "sel = SequentialFeatureSelector(lr, direction='forward', n_jobs=-1)\n",
    "sel_features = sel.fit_transform(X_pre, Y)\n"
   ]
  },
  {
   "cell_type": "code",
   "execution_count": 51,
   "metadata": {},
   "outputs": [
    {
     "data": {
      "text/plain": [
       "array(['num__Cement', 'num__Blast Furnace Slag', 'num__Superplasticizer',\n",
       "       'num__Age'], dtype=object)"
      ]
     },
     "execution_count": 51,
     "metadata": {},
     "output_type": "execute_result"
    }
   ],
   "source": [
    "imp_cols = sel.get_feature_names_out()\n",
    "imp_cols"
   ]
  },
  {
   "cell_type": "code",
   "execution_count": 53,
   "metadata": {},
   "outputs": [
    {
     "data": {
      "text/plain": [
       "'Cement'"
      ]
     },
     "execution_count": 53,
     "metadata": {},
     "output_type": "execute_result"
    }
   ],
   "source": [
    "imp_cols[0].split(\"__\")[1]"
   ]
  },
  {
   "cell_type": "code",
   "execution_count": 57,
   "metadata": {},
   "outputs": [],
   "source": [
    "sel_cols = []\n",
    "for i in imp_cols:\n",
    "    s = i.split(\"__\")[1]\n",
    "    sel_cols.append(s)"
   ]
  }
 ],
 "metadata": {
  "kernelspec": {
   "display_name": "venv",
   "language": "python",
   "name": "python3"
  },
  "language_info": {
   "codemirror_mode": {
    "name": "ipython",
    "version": 3
   },
   "file_extension": ".py",
   "mimetype": "text/x-python",
   "name": "python",
   "nbconvert_exporter": "python",
   "pygments_lexer": "ipython3",
   "version": "3.10.9"
  },
  "orig_nbformat": 4
 },
 "nbformat": 4,
 "nbformat_minor": 2
}
