{
 "cells": [
  {
   "cell_type": "code",
   "execution_count": 45,
   "metadata": {},
   "outputs": [],
   "source": [
    "from warnings import filterwarnings\n",
    "filterwarnings('ignore')"
   ]
  },
  {
   "cell_type": "code",
   "execution_count": 46,
   "metadata": {},
   "outputs": [],
   "source": [
    "import pandas as pd\n",
    "df = pd.read_csv('con_dataset.csv')"
   ]
  },
  {
   "cell_type": "code",
   "execution_count": 47,
   "metadata": {},
   "outputs": [
    {
     "data": {
      "text/html": [
       "<div>\n",
       "<style scoped>\n",
       "    .dataframe tbody tr th:only-of-type {\n",
       "        vertical-align: middle;\n",
       "    }\n",
       "\n",
       "    .dataframe tbody tr th {\n",
       "        vertical-align: top;\n",
       "    }\n",
       "\n",
       "    .dataframe thead th {\n",
       "        text-align: right;\n",
       "    }\n",
       "</style>\n",
       "<table border=\"1\" class=\"dataframe\">\n",
       "  <thead>\n",
       "    <tr style=\"text-align: right;\">\n",
       "      <th></th>\n",
       "      <th>Cement</th>\n",
       "      <th>Blast Furnace Slag</th>\n",
       "      <th>Fly Ash</th>\n",
       "      <th>Water</th>\n",
       "      <th>Superplasticizer</th>\n",
       "      <th>Coarse Aggregate</th>\n",
       "      <th>Fine Aggregate</th>\n",
       "      <th>Age</th>\n",
       "      <th>Strength</th>\n",
       "    </tr>\n",
       "  </thead>\n",
       "  <tbody>\n",
       "    <tr>\n",
       "      <th>0</th>\n",
       "      <td>540.0</td>\n",
       "      <td>0.0</td>\n",
       "      <td>Yes</td>\n",
       "      <td>162.0</td>\n",
       "      <td>2.5</td>\n",
       "      <td>1040.0</td>\n",
       "      <td>676.0</td>\n",
       "      <td>28.0</td>\n",
       "      <td>79.99</td>\n",
       "    </tr>\n",
       "    <tr>\n",
       "      <th>1</th>\n",
       "      <td>540.0</td>\n",
       "      <td>0.0</td>\n",
       "      <td>Yes</td>\n",
       "      <td>162.0</td>\n",
       "      <td>2.5</td>\n",
       "      <td>1055.0</td>\n",
       "      <td>676.0</td>\n",
       "      <td>28.0</td>\n",
       "      <td>61.89</td>\n",
       "    </tr>\n",
       "    <tr>\n",
       "      <th>2</th>\n",
       "      <td>332.5</td>\n",
       "      <td>142.5</td>\n",
       "      <td>Yes</td>\n",
       "      <td>228.0</td>\n",
       "      <td>0.0</td>\n",
       "      <td>NaN</td>\n",
       "      <td>594.0</td>\n",
       "      <td>270.0</td>\n",
       "      <td>40.27</td>\n",
       "    </tr>\n",
       "    <tr>\n",
       "      <th>3</th>\n",
       "      <td>332.5</td>\n",
       "      <td>142.5</td>\n",
       "      <td>No</td>\n",
       "      <td>228.0</td>\n",
       "      <td>0.0</td>\n",
       "      <td>932.0</td>\n",
       "      <td>594.0</td>\n",
       "      <td>365.0</td>\n",
       "      <td>41.05</td>\n",
       "    </tr>\n",
       "    <tr>\n",
       "      <th>4</th>\n",
       "      <td>198.6</td>\n",
       "      <td>132.4</td>\n",
       "      <td>No</td>\n",
       "      <td>192.0</td>\n",
       "      <td>0.0</td>\n",
       "      <td>978.4</td>\n",
       "      <td>825.5</td>\n",
       "      <td>360.0</td>\n",
       "      <td>44.30</td>\n",
       "    </tr>\n",
       "  </tbody>\n",
       "</table>\n",
       "</div>"
      ],
      "text/plain": [
       "   Cement  Blast Furnace Slag Fly Ash  Water  Superplasticizer  \\\n",
       "0   540.0                 0.0     Yes  162.0               2.5   \n",
       "1   540.0                 0.0     Yes  162.0               2.5   \n",
       "2   332.5               142.5     Yes  228.0               0.0   \n",
       "3   332.5               142.5      No  228.0               0.0   \n",
       "4   198.6               132.4      No  192.0               0.0   \n",
       "\n",
       "   Coarse Aggregate  Fine Aggregate    Age  Strength  \n",
       "0            1040.0           676.0   28.0     79.99  \n",
       "1            1055.0           676.0   28.0     61.89  \n",
       "2               NaN           594.0  270.0     40.27  \n",
       "3             932.0           594.0  365.0     41.05  \n",
       "4             978.4           825.5  360.0     44.30  "
      ]
     },
     "execution_count": 47,
     "metadata": {},
     "output_type": "execute_result"
    }
   ],
   "source": [
    "df.head()"
   ]
  },
  {
   "cell_type": "code",
   "execution_count": 48,
   "metadata": {},
   "outputs": [
    {
     "data": {
      "text/plain": [
       "Cement                4\n",
       "Blast Furnace Slag    0\n",
       "Fly Ash               0\n",
       "Water                 0\n",
       "Superplasticizer      0\n",
       "Coarse Aggregate      4\n",
       "Fine Aggregate        0\n",
       "Age                   4\n",
       "Strength              0\n",
       "dtype: int64"
      ]
     },
     "execution_count": 48,
     "metadata": {},
     "output_type": "execute_result"
    }
   ],
   "source": [
    "df.isna().sum()"
   ]
  },
  {
   "cell_type": "markdown",
   "metadata": {},
   "source": [
    "# Seperat the X and Y"
   ]
  },
  {
   "cell_type": "markdown",
   "metadata": {},
   "source": []
  },
  {
   "cell_type": "code",
   "execution_count": 49,
   "metadata": {},
   "outputs": [],
   "source": [
    "X= df.drop(columns=['Strength'])"
   ]
  },
  {
   "cell_type": "code",
   "execution_count": 50,
   "metadata": {},
   "outputs": [],
   "source": [
    "Y = df[['Strength']]"
   ]
  },
  {
   "cell_type": "code",
   "execution_count": 51,
   "metadata": {},
   "outputs": [
    {
     "data": {
      "text/html": [
       "<div>\n",
       "<style scoped>\n",
       "    .dataframe tbody tr th:only-of-type {\n",
       "        vertical-align: middle;\n",
       "    }\n",
       "\n",
       "    .dataframe tbody tr th {\n",
       "        vertical-align: top;\n",
       "    }\n",
       "\n",
       "    .dataframe thead th {\n",
       "        text-align: right;\n",
       "    }\n",
       "</style>\n",
       "<table border=\"1\" class=\"dataframe\">\n",
       "  <thead>\n",
       "    <tr style=\"text-align: right;\">\n",
       "      <th></th>\n",
       "      <th>Strength</th>\n",
       "    </tr>\n",
       "  </thead>\n",
       "  <tbody>\n",
       "    <tr>\n",
       "      <th>0</th>\n",
       "      <td>79.99</td>\n",
       "    </tr>\n",
       "    <tr>\n",
       "      <th>1</th>\n",
       "      <td>61.89</td>\n",
       "    </tr>\n",
       "    <tr>\n",
       "      <th>2</th>\n",
       "      <td>40.27</td>\n",
       "    </tr>\n",
       "    <tr>\n",
       "      <th>3</th>\n",
       "      <td>41.05</td>\n",
       "    </tr>\n",
       "    <tr>\n",
       "      <th>4</th>\n",
       "      <td>44.30</td>\n",
       "    </tr>\n",
       "    <tr>\n",
       "      <th>...</th>\n",
       "      <td>...</td>\n",
       "    </tr>\n",
       "    <tr>\n",
       "      <th>1025</th>\n",
       "      <td>44.28</td>\n",
       "    </tr>\n",
       "    <tr>\n",
       "      <th>1026</th>\n",
       "      <td>31.18</td>\n",
       "    </tr>\n",
       "    <tr>\n",
       "      <th>1027</th>\n",
       "      <td>23.70</td>\n",
       "    </tr>\n",
       "    <tr>\n",
       "      <th>1028</th>\n",
       "      <td>32.77</td>\n",
       "    </tr>\n",
       "    <tr>\n",
       "      <th>1029</th>\n",
       "      <td>32.40</td>\n",
       "    </tr>\n",
       "  </tbody>\n",
       "</table>\n",
       "<p>1030 rows × 1 columns</p>\n",
       "</div>"
      ],
      "text/plain": [
       "      Strength\n",
       "0        79.99\n",
       "1        61.89\n",
       "2        40.27\n",
       "3        41.05\n",
       "4        44.30\n",
       "...        ...\n",
       "1025     44.28\n",
       "1026     31.18\n",
       "1027     23.70\n",
       "1028     32.77\n",
       "1029     32.40\n",
       "\n",
       "[1030 rows x 1 columns]"
      ]
     },
     "execution_count": 51,
     "metadata": {},
     "output_type": "execute_result"
    }
   ],
   "source": [
    "Y"
   ]
  },
  {
   "cell_type": "code",
   "execution_count": 52,
   "metadata": {},
   "outputs": [
    {
     "data": {
      "text/plain": [
       "Cement                float64\n",
       "Blast Furnace Slag    float64\n",
       "Fly Ash                object\n",
       "Water                 float64\n",
       "Superplasticizer      float64\n",
       "Coarse Aggregate      float64\n",
       "Fine Aggregate        float64\n",
       "Age                   float64\n",
       "Strength              float64\n",
       "dtype: object"
      ]
     },
     "execution_count": 52,
     "metadata": {},
     "output_type": "execute_result"
    }
   ],
   "source": [
    "df.dtypes"
   ]
  },
  {
   "cell_type": "code",
   "execution_count": 53,
   "metadata": {},
   "outputs": [
    {
     "data": {
      "text/plain": [
       "Index(['Cement', 'Blast Furnace Slag', 'Fly Ash', 'Water', 'Superplasticizer',\n",
       "       'Coarse Aggregate', 'Fine Aggregate', 'Age', 'Strength'],\n",
       "      dtype='object')"
      ]
     },
     "execution_count": 53,
     "metadata": {},
     "output_type": "execute_result"
    }
   ],
   "source": [
    "df.columns"
   ]
  },
  {
   "cell_type": "code",
   "execution_count": 54,
   "metadata": {},
   "outputs": [],
   "source": [
    "cat=list(X.columns[X.dtypes == 'object'])"
   ]
  },
  {
   "cell_type": "code",
   "execution_count": 55,
   "metadata": {},
   "outputs": [],
   "source": [
    "con = list(X.columns[X.dtypes != 'object'])"
   ]
  },
  {
   "cell_type": "code",
   "execution_count": 56,
   "metadata": {},
   "outputs": [
    {
     "data": {
      "text/plain": [
       "['Fly Ash']"
      ]
     },
     "execution_count": 56,
     "metadata": {},
     "output_type": "execute_result"
    }
   ],
   "source": [
    "cat "
   ]
  },
  {
   "cell_type": "code",
   "execution_count": 57,
   "metadata": {},
   "outputs": [
    {
     "data": {
      "text/plain": [
       "['Cement',\n",
       " 'Blast Furnace Slag',\n",
       " 'Water',\n",
       " 'Superplasticizer',\n",
       " 'Coarse Aggregate',\n",
       " 'Fine Aggregate',\n",
       " 'Age']"
      ]
     },
     "execution_count": 57,
     "metadata": {},
     "output_type": "execute_result"
    }
   ],
   "source": [
    "con"
   ]
  },
  {
   "cell_type": "code",
   "execution_count": 58,
   "metadata": {},
   "outputs": [],
   "source": [
    "from sklearn.pipeline import Pipeline\n",
    "from sklearn.impute import SimpleImputer # Fill the Missing Value\n",
    "from sklearn.preprocessing import StandardScaler, OneHotEncoder, OrdinalEncoder \n",
    "# Scalar == Scaling Two Type 1) Standard -- X - Xm / SD  --- Range -3 tp 3   2) Normalition -- X - Xmin / Xmax - Xmin  Range - -1 to 1\n",
    "# OneHot Encoder = Convert Categorical Features into Continous --- Create Multiple Columns -- Each Wrod One Columns e.g Apple --- \n",
    "# new columns will get created for Apple ---- where ever there is apple entry it will show 1 otherwise 0 \n",
    "# Ordinal Encoder - used for Ordinal data like S M L XL , Only One Columns will be get created it will have value like S-1, M-2, L-3, XL-4\n",
    "from sklearn.compose import ColumnTransformer # Joining the Cat and Con Columns "
   ]
  },
  {
   "cell_type": "code",
   "execution_count": 59,
   "metadata": {},
   "outputs": [],
   "source": [
    "#Create Numerical Pipeline \n",
    "num_pipe = Pipeline(steps= [(\"imputer\", SimpleImputer(strategy='mean')),('Scalar', StandardScaler()) ] ) \n",
    "\n",
    "# Create Categorical Pipeline \n",
    "cat_Pipe = Pipeline(steps=[('imputer', SimpleImputer(strategy='most_frequent')),\n",
    "                           ('ohe', OneHotEncoder(handle_unknown='ignore'))])\n",
    "\n",
    "#Combine categorical and continuous pipelines\n",
    "pre = ColumnTransformer([('num', num_pipe, con), ('cat', cat_Pipe, cat)])"
   ]
  },
  {
   "cell_type": "code",
   "execution_count": 63,
   "metadata": {},
   "outputs": [
    {
     "data": {
      "text/plain": [
       "array([[ 2.49569686, -0.85688789, -0.91676439, ..., -0.27647427,\n",
       "         0.        ,  1.        ],\n",
       "       [ 2.49569686, -0.85688789, -0.91676439, ..., -0.27647427,\n",
       "         0.        ,  1.        ],\n",
       "       [ 0.49970827,  0.79552649,  2.17546125, ...,  3.6148215 ,\n",
       "         0.        ,  1.        ],\n",
       "       ...,\n",
       "       [-1.27022859,  0.75957923,  0.52158905, ..., -0.27647427,\n",
       "         1.        ,  0.        ],\n",
       "       [-1.16826484,  1.30806485, -0.2795785 , ..., -0.27647427,\n",
       "         0.        ,  1.        ],\n",
       "       [-0.18902803,  0.30849909,  0.89171909, ..., -0.27647427,\n",
       "         0.        ,  1.        ]])"
      ]
     },
     "execution_count": 63,
     "metadata": {},
     "output_type": "execute_result"
    }
   ],
   "source": [
    "# Transform the Array \n",
    "X_pre = pre.fit_transform(X)\n",
    "X_pre"
   ]
  },
  {
   "cell_type": "code",
   "execution_count": 66,
   "metadata": {},
   "outputs": [
    {
     "data": {
      "text/plain": [
       "array(['num__Cement', 'num__Blast Furnace Slag', 'num__Water',\n",
       "       'num__Superplasticizer', 'num__Coarse Aggregate',\n",
       "       'num__Fine Aggregate', 'num__Age', 'cat__Fly Ash_No',\n",
       "       'cat__Fly Ash_Yes'], dtype=object)"
      ]
     },
     "execution_count": 66,
     "metadata": {},
     "output_type": "execute_result"
    }
   ],
   "source": [
    "# Get the features / Columns names \n",
    "cols = pre.get_feature_names_out()\n",
    "cols"
   ]
  },
  {
   "cell_type": "code",
   "execution_count": 68,
   "metadata": {},
   "outputs": [
    {
     "data": {
      "text/html": [
       "<div>\n",
       "<style scoped>\n",
       "    .dataframe tbody tr th:only-of-type {\n",
       "        vertical-align: middle;\n",
       "    }\n",
       "\n",
       "    .dataframe tbody tr th {\n",
       "        vertical-align: top;\n",
       "    }\n",
       "\n",
       "    .dataframe thead th {\n",
       "        text-align: right;\n",
       "    }\n",
       "</style>\n",
       "<table border=\"1\" class=\"dataframe\">\n",
       "  <thead>\n",
       "    <tr style=\"text-align: right;\">\n",
       "      <th></th>\n",
       "      <th>num__Cement</th>\n",
       "      <th>num__Blast Furnace Slag</th>\n",
       "      <th>num__Water</th>\n",
       "      <th>num__Superplasticizer</th>\n",
       "      <th>num__Coarse Aggregate</th>\n",
       "      <th>num__Fine Aggregate</th>\n",
       "      <th>num__Age</th>\n",
       "      <th>cat__Fly Ash_No</th>\n",
       "      <th>cat__Fly Ash_Yes</th>\n",
       "    </tr>\n",
       "  </thead>\n",
       "  <tbody>\n",
       "    <tr>\n",
       "      <th>0</th>\n",
       "      <td>2.495697</td>\n",
       "      <td>-0.856888</td>\n",
       "      <td>-0.916764</td>\n",
       "      <td>-0.620448</td>\n",
       "      <td>0.862035</td>\n",
       "      <td>-1.217670</td>\n",
       "      <td>-0.276474</td>\n",
       "      <td>0.0</td>\n",
       "      <td>1.0</td>\n",
       "    </tr>\n",
       "    <tr>\n",
       "      <th>1</th>\n",
       "      <td>2.495697</td>\n",
       "      <td>-0.856888</td>\n",
       "      <td>-0.916764</td>\n",
       "      <td>-0.620448</td>\n",
       "      <td>1.055123</td>\n",
       "      <td>-1.217670</td>\n",
       "      <td>-0.276474</td>\n",
       "      <td>0.0</td>\n",
       "      <td>1.0</td>\n",
       "    </tr>\n",
       "    <tr>\n",
       "      <th>2</th>\n",
       "      <td>0.499708</td>\n",
       "      <td>0.795526</td>\n",
       "      <td>2.175461</td>\n",
       "      <td>-1.039143</td>\n",
       "      <td>0.000000</td>\n",
       "      <td>-2.240917</td>\n",
       "      <td>3.614821</td>\n",
       "      <td>0.0</td>\n",
       "      <td>1.0</td>\n",
       "    </tr>\n",
       "    <tr>\n",
       "      <th>3</th>\n",
       "      <td>0.499708</td>\n",
       "      <td>0.795526</td>\n",
       "      <td>2.175461</td>\n",
       "      <td>-1.039143</td>\n",
       "      <td>-0.528203</td>\n",
       "      <td>-2.240917</td>\n",
       "      <td>5.142396</td>\n",
       "      <td>1.0</td>\n",
       "      <td>0.0</td>\n",
       "    </tr>\n",
       "    <tr>\n",
       "      <th>4</th>\n",
       "      <td>-0.788306</td>\n",
       "      <td>0.678408</td>\n",
       "      <td>0.488793</td>\n",
       "      <td>-1.039143</td>\n",
       "      <td>0.069084</td>\n",
       "      <td>0.647884</td>\n",
       "      <td>5.061998</td>\n",
       "      <td>1.0</td>\n",
       "      <td>0.0</td>\n",
       "    </tr>\n",
       "    <tr>\n",
       "      <th>...</th>\n",
       "      <td>...</td>\n",
       "      <td>...</td>\n",
       "      <td>...</td>\n",
       "      <td>...</td>\n",
       "      <td>...</td>\n",
       "      <td>...</td>\n",
       "      <td>...</td>\n",
       "      <td>...</td>\n",
       "      <td>...</td>\n",
       "    </tr>\n",
       "    <tr>\n",
       "      <th>1025</th>\n",
       "      <td>-0.039930</td>\n",
       "      <td>0.488235</td>\n",
       "      <td>-0.092171</td>\n",
       "      <td>0.451410</td>\n",
       "      <td>-1.325016</td>\n",
       "      <td>-0.065893</td>\n",
       "      <td>-0.276474</td>\n",
       "      <td>0.0</td>\n",
       "      <td>1.0</td>\n",
       "    </tr>\n",
       "    <tr>\n",
       "      <th>1026</th>\n",
       "      <td>0.400630</td>\n",
       "      <td>-0.856888</td>\n",
       "      <td>0.676200</td>\n",
       "      <td>0.702626</td>\n",
       "      <td>-1.996964</td>\n",
       "      <td>0.496893</td>\n",
       "      <td>-0.276474</td>\n",
       "      <td>0.0</td>\n",
       "      <td>1.0</td>\n",
       "    </tr>\n",
       "    <tr>\n",
       "      <th>1027</th>\n",
       "      <td>-1.270229</td>\n",
       "      <td>0.759579</td>\n",
       "      <td>0.521589</td>\n",
       "      <td>-0.017528</td>\n",
       "      <td>-1.037957</td>\n",
       "      <td>0.080107</td>\n",
       "      <td>-0.276474</td>\n",
       "      <td>1.0</td>\n",
       "      <td>0.0</td>\n",
       "    </tr>\n",
       "    <tr>\n",
       "      <th>1028</th>\n",
       "      <td>-1.168265</td>\n",
       "      <td>1.308065</td>\n",
       "      <td>-0.279579</td>\n",
       "      <td>0.853356</td>\n",
       "      <td>0.213257</td>\n",
       "      <td>0.191166</td>\n",
       "      <td>-0.276474</td>\n",
       "      <td>0.0</td>\n",
       "      <td>1.0</td>\n",
       "    </tr>\n",
       "    <tr>\n",
       "      <th>1029</th>\n",
       "      <td>-0.189028</td>\n",
       "      <td>0.308499</td>\n",
       "      <td>0.891719</td>\n",
       "      <td>0.401166</td>\n",
       "      <td>-1.397102</td>\n",
       "      <td>-0.150748</td>\n",
       "      <td>-0.276474</td>\n",
       "      <td>0.0</td>\n",
       "      <td>1.0</td>\n",
       "    </tr>\n",
       "  </tbody>\n",
       "</table>\n",
       "<p>1030 rows × 9 columns</p>\n",
       "</div>"
      ],
      "text/plain": [
       "      num__Cement  num__Blast Furnace Slag  num__Water  num__Superplasticizer  \\\n",
       "0        2.495697                -0.856888   -0.916764              -0.620448   \n",
       "1        2.495697                -0.856888   -0.916764              -0.620448   \n",
       "2        0.499708                 0.795526    2.175461              -1.039143   \n",
       "3        0.499708                 0.795526    2.175461              -1.039143   \n",
       "4       -0.788306                 0.678408    0.488793              -1.039143   \n",
       "...           ...                      ...         ...                    ...   \n",
       "1025    -0.039930                 0.488235   -0.092171               0.451410   \n",
       "1026     0.400630                -0.856888    0.676200               0.702626   \n",
       "1027    -1.270229                 0.759579    0.521589              -0.017528   \n",
       "1028    -1.168265                 1.308065   -0.279579               0.853356   \n",
       "1029    -0.189028                 0.308499    0.891719               0.401166   \n",
       "\n",
       "      num__Coarse Aggregate  num__Fine Aggregate  num__Age  cat__Fly Ash_No  \\\n",
       "0                  0.862035            -1.217670 -0.276474              0.0   \n",
       "1                  1.055123            -1.217670 -0.276474              0.0   \n",
       "2                  0.000000            -2.240917  3.614821              0.0   \n",
       "3                 -0.528203            -2.240917  5.142396              1.0   \n",
       "4                  0.069084             0.647884  5.061998              1.0   \n",
       "...                     ...                  ...       ...              ...   \n",
       "1025              -1.325016            -0.065893 -0.276474              0.0   \n",
       "1026              -1.996964             0.496893 -0.276474              0.0   \n",
       "1027              -1.037957             0.080107 -0.276474              1.0   \n",
       "1028               0.213257             0.191166 -0.276474              0.0   \n",
       "1029              -1.397102            -0.150748 -0.276474              0.0   \n",
       "\n",
       "      cat__Fly Ash_Yes  \n",
       "0                  1.0  \n",
       "1                  1.0  \n",
       "2                  1.0  \n",
       "3                  0.0  \n",
       "4                  0.0  \n",
       "...                ...  \n",
       "1025               1.0  \n",
       "1026               1.0  \n",
       "1027               0.0  \n",
       "1028               1.0  \n",
       "1029               1.0  \n",
       "\n",
       "[1030 rows x 9 columns]"
      ]
     },
     "execution_count": 68,
     "metadata": {},
     "output_type": "execute_result"
    }
   ],
   "source": [
    "# Convert into Data Frame \n",
    "X_pre = pd.DataFrame(X_pre, columns=cols)\n",
    "X_pre"
   ]
  },
  {
   "cell_type": "code",
   "execution_count": 69,
   "metadata": {},
   "outputs": [],
   "source": [
    "# Train Test Split \n",
    "from sklearn.model_selection import train_test_split\n",
    "xtrain, xtest, ytrain, ytest = train_test_split(X_pre, Y, test_size=20, random_state=23)"
   ]
  },
  {
   "cell_type": "code",
   "execution_count": 70,
   "metadata": {},
   "outputs": [
    {
     "data": {
      "text/html": [
       "<div>\n",
       "<style scoped>\n",
       "    .dataframe tbody tr th:only-of-type {\n",
       "        vertical-align: middle;\n",
       "    }\n",
       "\n",
       "    .dataframe tbody tr th {\n",
       "        vertical-align: top;\n",
       "    }\n",
       "\n",
       "    .dataframe thead th {\n",
       "        text-align: right;\n",
       "    }\n",
       "</style>\n",
       "<table border=\"1\" class=\"dataframe\">\n",
       "  <thead>\n",
       "    <tr style=\"text-align: right;\">\n",
       "      <th></th>\n",
       "      <th>num__Cement</th>\n",
       "      <th>num__Blast Furnace Slag</th>\n",
       "      <th>num__Water</th>\n",
       "      <th>num__Superplasticizer</th>\n",
       "      <th>num__Coarse Aggregate</th>\n",
       "      <th>num__Fine Aggregate</th>\n",
       "      <th>num__Age</th>\n",
       "      <th>cat__Fly Ash_No</th>\n",
       "      <th>cat__Fly Ash_Yes</th>\n",
       "    </tr>\n",
       "  </thead>\n",
       "  <tbody>\n",
       "    <tr>\n",
       "      <th>925</th>\n",
       "      <td>-1.121131</td>\n",
       "      <td>1.033242</td>\n",
       "      <td>0.723052</td>\n",
       "      <td>0.300680</td>\n",
       "      <td>-0.154899</td>\n",
       "      <td>-1.654422</td>\n",
       "      <td>-0.276474</td>\n",
       "      <td>0.0</td>\n",
       "      <td>1.0</td>\n",
       "    </tr>\n",
       "    <tr>\n",
       "      <th>937</th>\n",
       "      <td>0.315019</td>\n",
       "      <td>-0.856888</td>\n",
       "      <td>-0.143708</td>\n",
       "      <td>0.300680</td>\n",
       "      <td>0.371590</td>\n",
       "      <td>-1.059192</td>\n",
       "      <td>-0.276474</td>\n",
       "      <td>0.0</td>\n",
       "      <td>1.0</td>\n",
       "    </tr>\n",
       "    <tr>\n",
       "      <th>841</th>\n",
       "      <td>0.235180</td>\n",
       "      <td>-0.856888</td>\n",
       "      <td>0.676200</td>\n",
       "      <td>0.635635</td>\n",
       "      <td>-0.180644</td>\n",
       "      <td>-0.855790</td>\n",
       "      <td>-0.276474</td>\n",
       "      <td>1.0</td>\n",
       "      <td>0.0</td>\n",
       "    </tr>\n",
       "    <tr>\n",
       "      <th>606</th>\n",
       "      <td>-0.428547</td>\n",
       "      <td>-0.856888</td>\n",
       "      <td>0.582497</td>\n",
       "      <td>-1.039143</td>\n",
       "      <td>-0.064791</td>\n",
       "      <td>1.390362</td>\n",
       "      <td>-0.501591</td>\n",
       "      <td>1.0</td>\n",
       "      <td>0.0</td>\n",
       "    </tr>\n",
       "    <tr>\n",
       "      <th>345</th>\n",
       "      <td>-0.643055</td>\n",
       "      <td>-0.856888</td>\n",
       "      <td>-1.254098</td>\n",
       "      <td>0.669131</td>\n",
       "      <td>1.035814</td>\n",
       "      <td>0.035184</td>\n",
       "      <td>-0.501591</td>\n",
       "      <td>0.0</td>\n",
       "      <td>1.0</td>\n",
       "    </tr>\n",
       "    <tr>\n",
       "      <th>...</th>\n",
       "      <td>...</td>\n",
       "      <td>...</td>\n",
       "      <td>...</td>\n",
       "      <td>...</td>\n",
       "      <td>...</td>\n",
       "      <td>...</td>\n",
       "      <td>...</td>\n",
       "      <td>...</td>\n",
       "      <td>...</td>\n",
       "    </tr>\n",
       "    <tr>\n",
       "      <th>237</th>\n",
       "      <td>-0.642093</td>\n",
       "      <td>0.280669</td>\n",
       "      <td>0.006218</td>\n",
       "      <td>0.082958</td>\n",
       "      <td>1.196721</td>\n",
       "      <td>0.148739</td>\n",
       "      <td>0.173758</td>\n",
       "      <td>1.0</td>\n",
       "      <td>0.0</td>\n",
       "    </tr>\n",
       "    <tr>\n",
       "      <th>31</th>\n",
       "      <td>-0.139970</td>\n",
       "      <td>0.465044</td>\n",
       "      <td>2.175461</td>\n",
       "      <td>-1.039143</td>\n",
       "      <td>-0.528203</td>\n",
       "      <td>-1.292542</td>\n",
       "      <td>5.142396</td>\n",
       "      <td>0.0</td>\n",
       "      <td>1.0</td>\n",
       "    </tr>\n",
       "    <tr>\n",
       "      <th>950</th>\n",
       "      <td>0.441993</td>\n",
       "      <td>-0.856888</td>\n",
       "      <td>0.816756</td>\n",
       "      <td>0.769617</td>\n",
       "      <td>-2.213223</td>\n",
       "      <td>0.236089</td>\n",
       "      <td>-0.276474</td>\n",
       "      <td>1.0</td>\n",
       "      <td>0.0</td>\n",
       "    </tr>\n",
       "    <tr>\n",
       "      <th>742</th>\n",
       "      <td>1.918544</td>\n",
       "      <td>-0.856888</td>\n",
       "      <td>0.488793</td>\n",
       "      <td>-1.039143</td>\n",
       "      <td>-0.476713</td>\n",
       "      <td>-0.656132</td>\n",
       "      <td>0.720469</td>\n",
       "      <td>0.0</td>\n",
       "      <td>1.0</td>\n",
       "    </tr>\n",
       "    <tr>\n",
       "      <th>595</th>\n",
       "      <td>-0.907584</td>\n",
       "      <td>0.582162</td>\n",
       "      <td>0.193626</td>\n",
       "      <td>-1.039143</td>\n",
       "      <td>1.420704</td>\n",
       "      <td>-0.115808</td>\n",
       "      <td>-0.276474</td>\n",
       "      <td>0.0</td>\n",
       "      <td>1.0</td>\n",
       "    </tr>\n",
       "  </tbody>\n",
       "</table>\n",
       "<p>1010 rows × 9 columns</p>\n",
       "</div>"
      ],
      "text/plain": [
       "     num__Cement  num__Blast Furnace Slag  num__Water  num__Superplasticizer  \\\n",
       "925    -1.121131                 1.033242    0.723052               0.300680   \n",
       "937     0.315019                -0.856888   -0.143708               0.300680   \n",
       "841     0.235180                -0.856888    0.676200               0.635635   \n",
       "606    -0.428547                -0.856888    0.582497              -1.039143   \n",
       "345    -0.643055                -0.856888   -1.254098               0.669131   \n",
       "..           ...                      ...         ...                    ...   \n",
       "237    -0.642093                 0.280669    0.006218               0.082958   \n",
       "31     -0.139970                 0.465044    2.175461              -1.039143   \n",
       "950     0.441993                -0.856888    0.816756               0.769617   \n",
       "742     1.918544                -0.856888    0.488793              -1.039143   \n",
       "595    -0.907584                 0.582162    0.193626              -1.039143   \n",
       "\n",
       "     num__Coarse Aggregate  num__Fine Aggregate  num__Age  cat__Fly Ash_No  \\\n",
       "925              -0.154899            -1.654422 -0.276474              0.0   \n",
       "937               0.371590            -1.059192 -0.276474              0.0   \n",
       "841              -0.180644            -0.855790 -0.276474              1.0   \n",
       "606              -0.064791             1.390362 -0.501591              1.0   \n",
       "345               1.035814             0.035184 -0.501591              0.0   \n",
       "..                     ...                  ...       ...              ...   \n",
       "237               1.196721             0.148739  0.173758              1.0   \n",
       "31               -0.528203            -1.292542  5.142396              0.0   \n",
       "950              -2.213223             0.236089 -0.276474              1.0   \n",
       "742              -0.476713            -0.656132  0.720469              0.0   \n",
       "595               1.420704            -0.115808 -0.276474              0.0   \n",
       "\n",
       "     cat__Fly Ash_Yes  \n",
       "925               1.0  \n",
       "937               1.0  \n",
       "841               0.0  \n",
       "606               0.0  \n",
       "345               1.0  \n",
       "..                ...  \n",
       "237               0.0  \n",
       "31                1.0  \n",
       "950               0.0  \n",
       "742               1.0  \n",
       "595               1.0  \n",
       "\n",
       "[1010 rows x 9 columns]"
      ]
     },
     "execution_count": 70,
     "metadata": {},
     "output_type": "execute_result"
    }
   ],
   "source": [
    "xtrain"
   ]
  },
  {
   "cell_type": "code",
   "execution_count": 71,
   "metadata": {},
   "outputs": [
    {
     "data": {
      "text/html": [
       "<style>#sk-container-id-1 {color: black;}#sk-container-id-1 pre{padding: 0;}#sk-container-id-1 div.sk-toggleable {background-color: white;}#sk-container-id-1 label.sk-toggleable__label {cursor: pointer;display: block;width: 100%;margin-bottom: 0;padding: 0.3em;box-sizing: border-box;text-align: center;}#sk-container-id-1 label.sk-toggleable__label-arrow:before {content: \"▸\";float: left;margin-right: 0.25em;color: #696969;}#sk-container-id-1 label.sk-toggleable__label-arrow:hover:before {color: black;}#sk-container-id-1 div.sk-estimator:hover label.sk-toggleable__label-arrow:before {color: black;}#sk-container-id-1 div.sk-toggleable__content {max-height: 0;max-width: 0;overflow: hidden;text-align: left;background-color: #f0f8ff;}#sk-container-id-1 div.sk-toggleable__content pre {margin: 0.2em;color: black;border-radius: 0.25em;background-color: #f0f8ff;}#sk-container-id-1 input.sk-toggleable__control:checked~div.sk-toggleable__content {max-height: 200px;max-width: 100%;overflow: auto;}#sk-container-id-1 input.sk-toggleable__control:checked~label.sk-toggleable__label-arrow:before {content: \"▾\";}#sk-container-id-1 div.sk-estimator input.sk-toggleable__control:checked~label.sk-toggleable__label {background-color: #d4ebff;}#sk-container-id-1 div.sk-label input.sk-toggleable__control:checked~label.sk-toggleable__label {background-color: #d4ebff;}#sk-container-id-1 input.sk-hidden--visually {border: 0;clip: rect(1px 1px 1px 1px);clip: rect(1px, 1px, 1px, 1px);height: 1px;margin: -1px;overflow: hidden;padding: 0;position: absolute;width: 1px;}#sk-container-id-1 div.sk-estimator {font-family: monospace;background-color: #f0f8ff;border: 1px dotted black;border-radius: 0.25em;box-sizing: border-box;margin-bottom: 0.5em;}#sk-container-id-1 div.sk-estimator:hover {background-color: #d4ebff;}#sk-container-id-1 div.sk-parallel-item::after {content: \"\";width: 100%;border-bottom: 1px solid gray;flex-grow: 1;}#sk-container-id-1 div.sk-label:hover label.sk-toggleable__label {background-color: #d4ebff;}#sk-container-id-1 div.sk-serial::before {content: \"\";position: absolute;border-left: 1px solid gray;box-sizing: border-box;top: 0;bottom: 0;left: 50%;z-index: 0;}#sk-container-id-1 div.sk-serial {display: flex;flex-direction: column;align-items: center;background-color: white;padding-right: 0.2em;padding-left: 0.2em;position: relative;}#sk-container-id-1 div.sk-item {position: relative;z-index: 1;}#sk-container-id-1 div.sk-parallel {display: flex;align-items: stretch;justify-content: center;background-color: white;position: relative;}#sk-container-id-1 div.sk-item::before, #sk-container-id-1 div.sk-parallel-item::before {content: \"\";position: absolute;border-left: 1px solid gray;box-sizing: border-box;top: 0;bottom: 0;left: 50%;z-index: -1;}#sk-container-id-1 div.sk-parallel-item {display: flex;flex-direction: column;z-index: 1;position: relative;background-color: white;}#sk-container-id-1 div.sk-parallel-item:first-child::after {align-self: flex-end;width: 50%;}#sk-container-id-1 div.sk-parallel-item:last-child::after {align-self: flex-start;width: 50%;}#sk-container-id-1 div.sk-parallel-item:only-child::after {width: 0;}#sk-container-id-1 div.sk-dashed-wrapped {border: 1px dashed gray;margin: 0 0.4em 0.5em 0.4em;box-sizing: border-box;padding-bottom: 0.4em;background-color: white;}#sk-container-id-1 div.sk-label label {font-family: monospace;font-weight: bold;display: inline-block;line-height: 1.2em;}#sk-container-id-1 div.sk-label-container {text-align: center;}#sk-container-id-1 div.sk-container {/* jupyter's `normalize.less` sets `[hidden] { display: none; }` but bootstrap.min.css set `[hidden] { display: none !important; }` so we also need the `!important` here to be able to override the default hidden behavior on the sphinx rendered scikit-learn.org. See: https://github.com/scikit-learn/scikit-learn/issues/21755 */display: inline-block !important;position: relative;}#sk-container-id-1 div.sk-text-repr-fallback {display: none;}</style><div id=\"sk-container-id-1\" class=\"sk-top-container\"><div class=\"sk-text-repr-fallback\"><pre>LinearRegression()</pre><b>In a Jupyter environment, please rerun this cell to show the HTML representation or trust the notebook. <br />On GitHub, the HTML representation is unable to render, please try loading this page with nbviewer.org.</b></div><div class=\"sk-container\" hidden><div class=\"sk-item\"><div class=\"sk-estimator sk-toggleable\"><input class=\"sk-toggleable__control sk-hidden--visually\" id=\"sk-estimator-id-1\" type=\"checkbox\" checked><label for=\"sk-estimator-id-1\" class=\"sk-toggleable__label sk-toggleable__label-arrow\">LinearRegression</label><div class=\"sk-toggleable__content\"><pre>LinearRegression()</pre></div></div></div></div></div>"
      ],
      "text/plain": [
       "LinearRegression()"
      ]
     },
     "execution_count": 71,
     "metadata": {},
     "output_type": "execute_result"
    }
   ],
   "source": [
    "# Create the Model \n",
    "from sklearn.linear_model import LinearRegression\n",
    "model = LinearRegression()\n",
    "model.fit(xtrain, ytrain)"
   ]
  },
  {
   "cell_type": "code",
   "execution_count": 72,
   "metadata": {},
   "outputs": [
    {
     "data": {
      "text/plain": [
       "0.5886124662274534"
      ]
     },
     "execution_count": 72,
     "metadata": {},
     "output_type": "execute_result"
    }
   ],
   "source": [
    "model.score(xtrain, ytrain)"
   ]
  },
  {
   "cell_type": "code",
   "execution_count": 73,
   "metadata": {},
   "outputs": [
    {
     "data": {
      "text/plain": [
       "0.7047169347955418"
      ]
     },
     "execution_count": 73,
     "metadata": {},
     "output_type": "execute_result"
    }
   ],
   "source": [
    "model.score(xtest, ytest)"
   ]
  },
  {
   "cell_type": "code",
   "execution_count": 74,
   "metadata": {},
   "outputs": [],
   "source": [
    "# Predict Train and Test Data \n",
    "yts_pre = model.predict(xtest)"
   ]
  },
  {
   "cell_type": "code",
   "execution_count": 76,
   "metadata": {},
   "outputs": [
    {
     "data": {
      "text/plain": [
       "array([[37.28661314],\n",
       "       [17.74093968],\n",
       "       [57.0276142 ],\n",
       "       [27.08246536],\n",
       "       [19.62361798]])"
      ]
     },
     "execution_count": 76,
     "metadata": {},
     "output_type": "execute_result"
    }
   ],
   "source": [
    "yts_pre[0:5]"
   ]
  },
  {
   "cell_type": "code",
   "execution_count": 77,
   "metadata": {},
   "outputs": [
    {
     "data": {
      "text/html": [
       "<div>\n",
       "<style scoped>\n",
       "    .dataframe tbody tr th:only-of-type {\n",
       "        vertical-align: middle;\n",
       "    }\n",
       "\n",
       "    .dataframe tbody tr th {\n",
       "        vertical-align: top;\n",
       "    }\n",
       "\n",
       "    .dataframe thead th {\n",
       "        text-align: right;\n",
       "    }\n",
       "</style>\n",
       "<table border=\"1\" class=\"dataframe\">\n",
       "  <thead>\n",
       "    <tr style=\"text-align: right;\">\n",
       "      <th></th>\n",
       "      <th>Strength</th>\n",
       "    </tr>\n",
       "  </thead>\n",
       "  <tbody>\n",
       "    <tr>\n",
       "      <th>874</th>\n",
       "      <td>36.80</td>\n",
       "    </tr>\n",
       "    <tr>\n",
       "      <th>184</th>\n",
       "      <td>11.58</td>\n",
       "    </tr>\n",
       "    <tr>\n",
       "      <th>158</th>\n",
       "      <td>71.70</td>\n",
       "    </tr>\n",
       "    <tr>\n",
       "      <th>264</th>\n",
       "      <td>19.52</td>\n",
       "    </tr>\n",
       "    <tr>\n",
       "      <th>575</th>\n",
       "      <td>17.58</td>\n",
       "    </tr>\n",
       "  </tbody>\n",
       "</table>\n",
       "</div>"
      ],
      "text/plain": [
       "     Strength\n",
       "874     36.80\n",
       "184     11.58\n",
       "158     71.70\n",
       "264     19.52\n",
       "575     17.58"
      ]
     },
     "execution_count": 77,
     "metadata": {},
     "output_type": "execute_result"
    }
   ],
   "source": [
    "ytest.head()"
   ]
  },
  {
   "cell_type": "code",
   "execution_count": 79,
   "metadata": {},
   "outputs": [],
   "source": [
    "ytr_pre = model.predict(xtrain)"
   ]
  },
  {
   "cell_type": "code",
   "execution_count": 80,
   "metadata": {},
   "outputs": [
    {
     "data": {
      "text/plain": [
       "array([[31.10637764],\n",
       "       [37.16572277],\n",
       "       [32.83869916],\n",
       "       [16.01916968],\n",
       "       [32.25377905]])"
      ]
     },
     "execution_count": 80,
     "metadata": {},
     "output_type": "execute_result"
    }
   ],
   "source": [
    "ytr_pre[0:5]"
   ]
  },
  {
   "cell_type": "code",
   "execution_count": 81,
   "metadata": {},
   "outputs": [
    {
     "data": {
      "text/html": [
       "<div>\n",
       "<style scoped>\n",
       "    .dataframe tbody tr th:only-of-type {\n",
       "        vertical-align: middle;\n",
       "    }\n",
       "\n",
       "    .dataframe tbody tr th {\n",
       "        vertical-align: top;\n",
       "    }\n",
       "\n",
       "    .dataframe thead th {\n",
       "        text-align: right;\n",
       "    }\n",
       "</style>\n",
       "<table border=\"1\" class=\"dataframe\">\n",
       "  <thead>\n",
       "    <tr style=\"text-align: right;\">\n",
       "      <th></th>\n",
       "      <th>Strength</th>\n",
       "    </tr>\n",
       "  </thead>\n",
       "  <tbody>\n",
       "    <tr>\n",
       "      <th>874</th>\n",
       "      <td>36.80</td>\n",
       "    </tr>\n",
       "    <tr>\n",
       "      <th>184</th>\n",
       "      <td>11.58</td>\n",
       "    </tr>\n",
       "    <tr>\n",
       "      <th>158</th>\n",
       "      <td>71.70</td>\n",
       "    </tr>\n",
       "    <tr>\n",
       "      <th>264</th>\n",
       "      <td>19.52</td>\n",
       "    </tr>\n",
       "    <tr>\n",
       "      <th>575</th>\n",
       "      <td>17.58</td>\n",
       "    </tr>\n",
       "  </tbody>\n",
       "</table>\n",
       "</div>"
      ],
      "text/plain": [
       "     Strength\n",
       "874     36.80\n",
       "184     11.58\n",
       "158     71.70\n",
       "264     19.52\n",
       "575     17.58"
      ]
     },
     "execution_count": 81,
     "metadata": {},
     "output_type": "execute_result"
    }
   ],
   "source": [
    "ytest.head()"
   ]
  },
  {
   "cell_type": "code",
   "execution_count": null,
   "metadata": {},
   "outputs": [],
   "source": []
  }
 ],
 "metadata": {
  "kernelspec": {
   "display_name": "venv",
   "language": "python",
   "name": "python3"
  },
  "language_info": {
   "codemirror_mode": {
    "name": "ipython",
    "version": 3
   },
   "file_extension": ".py",
   "mimetype": "text/x-python",
   "name": "python",
   "nbconvert_exporter": "python",
   "pygments_lexer": "ipython3",
   "version": "3.10.9"
  },
  "orig_nbformat": 4
 },
 "nbformat": 4,
 "nbformat_minor": 2
}
